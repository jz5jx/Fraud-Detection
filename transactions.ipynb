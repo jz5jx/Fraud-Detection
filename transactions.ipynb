{
 "cells": [
  {
   "cell_type": "markdown",
   "metadata": {},
   "source": [
    "### Importing Necessary Packages"
   ]
  },
  {
   "cell_type": "code",
   "execution_count": 1,
   "metadata": {},
   "outputs": [
    {
     "name": "stderr",
     "output_type": "stream",
     "text": [
      "C:\\Users\\John Zhang\\AppData\\Local\\Packages\\PythonSoftwareFoundation.Python.3.9_qbz5n2kfra8p0\\LocalCache\\local-packages\\Python39\\site-packages\\xgboost\\compat.py:36: FutureWarning: pandas.Int64Index is deprecated and will be removed from pandas in a future version. Use pandas.Index with the appropriate dtype instead.\n",
      "  from pandas import MultiIndex, Int64Index\n"
     ]
    }
   ],
   "source": [
    "import pandas as pd\n",
    "import numpy as np\n",
    "import os\n",
    "import json\n",
    "from sklearn.model_selection import train_test_split\n",
    "from sklearn.metrics import plot_confusion_matrix\n",
    "from imblearn.under_sampling import RandomUnderSampler\n",
    "import xgboost as xgb\n",
    "from sklearn.model_selection import GridSearchCV\n",
    "from imblearn.over_sampling import SMOTE\n",
    "import graphviz\n",
    "import seaborn as sns\n",
    "import matplotlib.pyplot as plt"
   ]
  },
  {
   "cell_type": "markdown",
   "metadata": {},
   "source": [
    "### Reading In-Line JSON File"
   ]
  },
  {
   "cell_type": "code",
   "execution_count": 2,
   "metadata": {},
   "outputs": [],
   "source": [
    "contents = open(r'transactions.txt', \"r\").read() \n",
    "data = [json.loads(str(item)) for item in contents.strip().split('\\n')]\n",
    "df = pd.DataFrame(data)"
   ]
  },
  {
   "cell_type": "code",
   "execution_count": 3,
   "metadata": {},
   "outputs": [
    {
     "name": "stdout",
     "output_type": "stream",
     "text": [
      "There are  786363 transactions and 29 features in the data\n"
     ]
    }
   ],
   "source": [
    "print('There are ', df.shape[0], 'transactions and', df.shape[1] , 'features in the data')"
   ]
  },
  {
   "cell_type": "markdown",
   "metadata": {},
   "source": [
    "##### Replacing white space with Python Nan Values"
   ]
  },
  {
   "cell_type": "code",
   "execution_count": 4,
   "metadata": {},
   "outputs": [],
   "source": [
    "df = df.apply(lambda x: x.str.strip() if isinstance(x, str) else x).replace('', np.nan)"
   ]
  },
  {
   "cell_type": "code",
   "execution_count": 5,
   "metadata": {},
   "outputs": [
    {
     "data": {
      "text/plain": [
       "False    773946\n",
       "True      12417\n",
       "Name: isFraud, dtype: int64"
      ]
     },
     "execution_count": 5,
     "metadata": {},
     "output_type": "execute_result"
    }
   ],
   "source": [
    "df['isFraud'].value_counts()"
   ]
  },
  {
   "cell_type": "code",
   "execution_count": 6,
   "metadata": {},
   "outputs": [
    {
     "data": {
      "text/plain": [
       "accountNumber                 0.000000\n",
       "customerId                    0.000000\n",
       "creditLimit                   0.000000\n",
       "availableMoney                0.000000\n",
       "transactionDateTime           0.000000\n",
       "transactionAmount             0.000000\n",
       "merchantName                  0.000000\n",
       "acqCountry                    0.580139\n",
       "merchantCountryCode           0.092069\n",
       "posEntryMode                  0.515538\n",
       "posConditionCode              0.052012\n",
       "merchantCategoryCode          0.000000\n",
       "currentExpDate                0.000000\n",
       "accountOpenDate               0.000000\n",
       "dateOfLastAddressChange       0.000000\n",
       "cardCVV                       0.000000\n",
       "enteredCVV                    0.000000\n",
       "cardLast4Digits               0.000000\n",
       "transactionType               0.088763\n",
       "echoBuffer                  100.000000\n",
       "currentBalance                0.000000\n",
       "merchantCity                100.000000\n",
       "merchantState               100.000000\n",
       "merchantZip                 100.000000\n",
       "cardPresent                   0.000000\n",
       "posOnPremises               100.000000\n",
       "recurringAuthInd            100.000000\n",
       "expirationDateKeyInMatch      0.000000\n",
       "isFraud                       0.000000\n",
       "dtype: float64"
      ]
     },
     "execution_count": 6,
     "metadata": {},
     "output_type": "execute_result"
    }
   ],
   "source": [
    "percent_missing = df.isnull().sum() * 100 / len(df)\n",
    "percent_missing"
   ]
  },
  {
   "cell_type": "markdown",
   "metadata": {},
   "source": [
    "##### Dropping all columns that have 100 percent missing values, these are not conducive to learning or analysis"
   ]
  },
  {
   "cell_type": "code",
   "execution_count": 7,
   "metadata": {},
   "outputs": [],
   "source": [
    "df.drop(['echoBuffer','merchantCity', 'merchantState', 'merchantZip', 'posOnPremises', 'recurringAuthInd'], axis=1, inplace=True)\n",
    "df.isnull().sum()\n",
    "df = df.reset_index(drop=True)"
   ]
  },
  {
   "cell_type": "markdown",
   "metadata": {},
   "source": [
    "#### Remaining Columns"
   ]
  },
  {
   "cell_type": "code",
   "execution_count": 8,
   "metadata": {},
   "outputs": [
    {
     "name": "stdout",
     "output_type": "stream",
     "text": [
      "['accountNumber', 'customerId', 'creditLimit', 'availableMoney', 'transactionDateTime', 'transactionAmount', 'merchantName', 'acqCountry', 'merchantCountryCode', 'posEntryMode', 'posConditionCode', 'merchantCategoryCode', 'currentExpDate', 'accountOpenDate', 'dateOfLastAddressChange', 'cardCVV', 'enteredCVV', 'cardLast4Digits', 'transactionType', 'currentBalance', 'cardPresent', 'expirationDateKeyInMatch', 'isFraud']\n"
     ]
    }
   ],
   "source": [
    "print(df.columns.tolist())"
   ]
  },
  {
   "cell_type": "code",
   "execution_count": 9,
   "metadata": {},
   "outputs": [
    {
     "data": {
      "text/html": [
       "<div>\n",
       "<style scoped>\n",
       "    .dataframe tbody tr th:only-of-type {\n",
       "        vertical-align: middle;\n",
       "    }\n",
       "\n",
       "    .dataframe tbody tr th {\n",
       "        vertical-align: top;\n",
       "    }\n",
       "\n",
       "    .dataframe thead th {\n",
       "        text-align: right;\n",
       "    }\n",
       "</style>\n",
       "<table border=\"1\" class=\"dataframe\">\n",
       "  <thead>\n",
       "    <tr style=\"text-align: right;\">\n",
       "      <th></th>\n",
       "      <th>accountNumber</th>\n",
       "      <th>customerId</th>\n",
       "      <th>creditLimit</th>\n",
       "      <th>availableMoney</th>\n",
       "      <th>transactionDateTime</th>\n",
       "      <th>transactionAmount</th>\n",
       "      <th>merchantName</th>\n",
       "      <th>acqCountry</th>\n",
       "      <th>merchantCountryCode</th>\n",
       "      <th>posEntryMode</th>\n",
       "      <th>...</th>\n",
       "      <th>accountOpenDate</th>\n",
       "      <th>dateOfLastAddressChange</th>\n",
       "      <th>cardCVV</th>\n",
       "      <th>enteredCVV</th>\n",
       "      <th>cardLast4Digits</th>\n",
       "      <th>transactionType</th>\n",
       "      <th>currentBalance</th>\n",
       "      <th>cardPresent</th>\n",
       "      <th>expirationDateKeyInMatch</th>\n",
       "      <th>isFraud</th>\n",
       "    </tr>\n",
       "  </thead>\n",
       "  <tbody>\n",
       "    <tr>\n",
       "      <th>count</th>\n",
       "      <td>786363</td>\n",
       "      <td>786363</td>\n",
       "      <td>786363.000000</td>\n",
       "      <td>786363.000000</td>\n",
       "      <td>786363</td>\n",
       "      <td>786363.000000</td>\n",
       "      <td>786363</td>\n",
       "      <td>781801</td>\n",
       "      <td>785639</td>\n",
       "      <td>782309</td>\n",
       "      <td>...</td>\n",
       "      <td>786363</td>\n",
       "      <td>786363</td>\n",
       "      <td>786363</td>\n",
       "      <td>786363</td>\n",
       "      <td>786363</td>\n",
       "      <td>785665</td>\n",
       "      <td>786363.000000</td>\n",
       "      <td>786363</td>\n",
       "      <td>786363</td>\n",
       "      <td>786363</td>\n",
       "    </tr>\n",
       "    <tr>\n",
       "      <th>unique</th>\n",
       "      <td>5000</td>\n",
       "      <td>5000</td>\n",
       "      <td>NaN</td>\n",
       "      <td>NaN</td>\n",
       "      <td>776637</td>\n",
       "      <td>NaN</td>\n",
       "      <td>2490</td>\n",
       "      <td>4</td>\n",
       "      <td>4</td>\n",
       "      <td>5</td>\n",
       "      <td>...</td>\n",
       "      <td>1820</td>\n",
       "      <td>2184</td>\n",
       "      <td>899</td>\n",
       "      <td>976</td>\n",
       "      <td>5246</td>\n",
       "      <td>3</td>\n",
       "      <td>NaN</td>\n",
       "      <td>2</td>\n",
       "      <td>2</td>\n",
       "      <td>2</td>\n",
       "    </tr>\n",
       "    <tr>\n",
       "      <th>top</th>\n",
       "      <td>380680241</td>\n",
       "      <td>380680241</td>\n",
       "      <td>NaN</td>\n",
       "      <td>NaN</td>\n",
       "      <td>2016-12-25T14:04:15</td>\n",
       "      <td>NaN</td>\n",
       "      <td>Uber</td>\n",
       "      <td>US</td>\n",
       "      <td>US</td>\n",
       "      <td>05</td>\n",
       "      <td>...</td>\n",
       "      <td>2014-06-21</td>\n",
       "      <td>2016-03-15</td>\n",
       "      <td>869</td>\n",
       "      <td>869</td>\n",
       "      <td>593</td>\n",
       "      <td>PURCHASE</td>\n",
       "      <td>NaN</td>\n",
       "      <td>False</td>\n",
       "      <td>False</td>\n",
       "      <td>False</td>\n",
       "    </tr>\n",
       "    <tr>\n",
       "      <th>freq</th>\n",
       "      <td>32850</td>\n",
       "      <td>32850</td>\n",
       "      <td>NaN</td>\n",
       "      <td>NaN</td>\n",
       "      <td>4</td>\n",
       "      <td>NaN</td>\n",
       "      <td>25613</td>\n",
       "      <td>774709</td>\n",
       "      <td>778511</td>\n",
       "      <td>315035</td>\n",
       "      <td>...</td>\n",
       "      <td>33623</td>\n",
       "      <td>3819</td>\n",
       "      <td>33749</td>\n",
       "      <td>33424</td>\n",
       "      <td>32946</td>\n",
       "      <td>745193</td>\n",
       "      <td>NaN</td>\n",
       "      <td>433495</td>\n",
       "      <td>785320</td>\n",
       "      <td>773946</td>\n",
       "    </tr>\n",
       "    <tr>\n",
       "      <th>mean</th>\n",
       "      <td>NaN</td>\n",
       "      <td>NaN</td>\n",
       "      <td>10759.464459</td>\n",
       "      <td>6250.725369</td>\n",
       "      <td>NaN</td>\n",
       "      <td>136.985791</td>\n",
       "      <td>NaN</td>\n",
       "      <td>NaN</td>\n",
       "      <td>NaN</td>\n",
       "      <td>NaN</td>\n",
       "      <td>...</td>\n",
       "      <td>NaN</td>\n",
       "      <td>NaN</td>\n",
       "      <td>NaN</td>\n",
       "      <td>NaN</td>\n",
       "      <td>NaN</td>\n",
       "      <td>NaN</td>\n",
       "      <td>4508.739089</td>\n",
       "      <td>NaN</td>\n",
       "      <td>NaN</td>\n",
       "      <td>NaN</td>\n",
       "    </tr>\n",
       "    <tr>\n",
       "      <th>std</th>\n",
       "      <td>NaN</td>\n",
       "      <td>NaN</td>\n",
       "      <td>11636.174890</td>\n",
       "      <td>8880.783989</td>\n",
       "      <td>NaN</td>\n",
       "      <td>147.725569</td>\n",
       "      <td>NaN</td>\n",
       "      <td>NaN</td>\n",
       "      <td>NaN</td>\n",
       "      <td>NaN</td>\n",
       "      <td>...</td>\n",
       "      <td>NaN</td>\n",
       "      <td>NaN</td>\n",
       "      <td>NaN</td>\n",
       "      <td>NaN</td>\n",
       "      <td>NaN</td>\n",
       "      <td>NaN</td>\n",
       "      <td>6457.442068</td>\n",
       "      <td>NaN</td>\n",
       "      <td>NaN</td>\n",
       "      <td>NaN</td>\n",
       "    </tr>\n",
       "    <tr>\n",
       "      <th>min</th>\n",
       "      <td>NaN</td>\n",
       "      <td>NaN</td>\n",
       "      <td>250.000000</td>\n",
       "      <td>-1005.630000</td>\n",
       "      <td>NaN</td>\n",
       "      <td>0.000000</td>\n",
       "      <td>NaN</td>\n",
       "      <td>NaN</td>\n",
       "      <td>NaN</td>\n",
       "      <td>NaN</td>\n",
       "      <td>...</td>\n",
       "      <td>NaN</td>\n",
       "      <td>NaN</td>\n",
       "      <td>NaN</td>\n",
       "      <td>NaN</td>\n",
       "      <td>NaN</td>\n",
       "      <td>NaN</td>\n",
       "      <td>0.000000</td>\n",
       "      <td>NaN</td>\n",
       "      <td>NaN</td>\n",
       "      <td>NaN</td>\n",
       "    </tr>\n",
       "    <tr>\n",
       "      <th>25%</th>\n",
       "      <td>NaN</td>\n",
       "      <td>NaN</td>\n",
       "      <td>5000.000000</td>\n",
       "      <td>1077.420000</td>\n",
       "      <td>NaN</td>\n",
       "      <td>33.650000</td>\n",
       "      <td>NaN</td>\n",
       "      <td>NaN</td>\n",
       "      <td>NaN</td>\n",
       "      <td>NaN</td>\n",
       "      <td>...</td>\n",
       "      <td>NaN</td>\n",
       "      <td>NaN</td>\n",
       "      <td>NaN</td>\n",
       "      <td>NaN</td>\n",
       "      <td>NaN</td>\n",
       "      <td>NaN</td>\n",
       "      <td>689.910000</td>\n",
       "      <td>NaN</td>\n",
       "      <td>NaN</td>\n",
       "      <td>NaN</td>\n",
       "    </tr>\n",
       "    <tr>\n",
       "      <th>50%</th>\n",
       "      <td>NaN</td>\n",
       "      <td>NaN</td>\n",
       "      <td>7500.000000</td>\n",
       "      <td>3184.860000</td>\n",
       "      <td>NaN</td>\n",
       "      <td>87.900000</td>\n",
       "      <td>NaN</td>\n",
       "      <td>NaN</td>\n",
       "      <td>NaN</td>\n",
       "      <td>NaN</td>\n",
       "      <td>...</td>\n",
       "      <td>NaN</td>\n",
       "      <td>NaN</td>\n",
       "      <td>NaN</td>\n",
       "      <td>NaN</td>\n",
       "      <td>NaN</td>\n",
       "      <td>NaN</td>\n",
       "      <td>2451.760000</td>\n",
       "      <td>NaN</td>\n",
       "      <td>NaN</td>\n",
       "      <td>NaN</td>\n",
       "    </tr>\n",
       "    <tr>\n",
       "      <th>75%</th>\n",
       "      <td>NaN</td>\n",
       "      <td>NaN</td>\n",
       "      <td>15000.000000</td>\n",
       "      <td>7500.000000</td>\n",
       "      <td>NaN</td>\n",
       "      <td>191.480000</td>\n",
       "      <td>NaN</td>\n",
       "      <td>NaN</td>\n",
       "      <td>NaN</td>\n",
       "      <td>NaN</td>\n",
       "      <td>...</td>\n",
       "      <td>NaN</td>\n",
       "      <td>NaN</td>\n",
       "      <td>NaN</td>\n",
       "      <td>NaN</td>\n",
       "      <td>NaN</td>\n",
       "      <td>NaN</td>\n",
       "      <td>5291.095000</td>\n",
       "      <td>NaN</td>\n",
       "      <td>NaN</td>\n",
       "      <td>NaN</td>\n",
       "    </tr>\n",
       "    <tr>\n",
       "      <th>max</th>\n",
       "      <td>NaN</td>\n",
       "      <td>NaN</td>\n",
       "      <td>50000.000000</td>\n",
       "      <td>50000.000000</td>\n",
       "      <td>NaN</td>\n",
       "      <td>2011.540000</td>\n",
       "      <td>NaN</td>\n",
       "      <td>NaN</td>\n",
       "      <td>NaN</td>\n",
       "      <td>NaN</td>\n",
       "      <td>...</td>\n",
       "      <td>NaN</td>\n",
       "      <td>NaN</td>\n",
       "      <td>NaN</td>\n",
       "      <td>NaN</td>\n",
       "      <td>NaN</td>\n",
       "      <td>NaN</td>\n",
       "      <td>47498.810000</td>\n",
       "      <td>NaN</td>\n",
       "      <td>NaN</td>\n",
       "      <td>NaN</td>\n",
       "    </tr>\n",
       "  </tbody>\n",
       "</table>\n",
       "<p>11 rows × 23 columns</p>\n",
       "</div>"
      ],
      "text/plain": [
       "       accountNumber customerId    creditLimit  availableMoney  \\\n",
       "count         786363     786363  786363.000000   786363.000000   \n",
       "unique          5000       5000            NaN             NaN   \n",
       "top        380680241  380680241            NaN             NaN   \n",
       "freq           32850      32850            NaN             NaN   \n",
       "mean             NaN        NaN   10759.464459     6250.725369   \n",
       "std              NaN        NaN   11636.174890     8880.783989   \n",
       "min              NaN        NaN     250.000000    -1005.630000   \n",
       "25%              NaN        NaN    5000.000000     1077.420000   \n",
       "50%              NaN        NaN    7500.000000     3184.860000   \n",
       "75%              NaN        NaN   15000.000000     7500.000000   \n",
       "max              NaN        NaN   50000.000000    50000.000000   \n",
       "\n",
       "        transactionDateTime  transactionAmount merchantName acqCountry  \\\n",
       "count                786363      786363.000000       786363     781801   \n",
       "unique               776637                NaN         2490          4   \n",
       "top     2016-12-25T14:04:15                NaN         Uber         US   \n",
       "freq                      4                NaN        25613     774709   \n",
       "mean                    NaN         136.985791          NaN        NaN   \n",
       "std                     NaN         147.725569          NaN        NaN   \n",
       "min                     NaN           0.000000          NaN        NaN   \n",
       "25%                     NaN          33.650000          NaN        NaN   \n",
       "50%                     NaN          87.900000          NaN        NaN   \n",
       "75%                     NaN         191.480000          NaN        NaN   \n",
       "max                     NaN        2011.540000          NaN        NaN   \n",
       "\n",
       "       merchantCountryCode posEntryMode  ... accountOpenDate  \\\n",
       "count               785639       782309  ...          786363   \n",
       "unique                   4            5  ...            1820   \n",
       "top                     US           05  ...      2014-06-21   \n",
       "freq                778511       315035  ...           33623   \n",
       "mean                   NaN          NaN  ...             NaN   \n",
       "std                    NaN          NaN  ...             NaN   \n",
       "min                    NaN          NaN  ...             NaN   \n",
       "25%                    NaN          NaN  ...             NaN   \n",
       "50%                    NaN          NaN  ...             NaN   \n",
       "75%                    NaN          NaN  ...             NaN   \n",
       "max                    NaN          NaN  ...             NaN   \n",
       "\n",
       "       dateOfLastAddressChange cardCVV enteredCVV cardLast4Digits  \\\n",
       "count                   786363  786363     786363          786363   \n",
       "unique                    2184     899        976            5246   \n",
       "top                 2016-03-15     869        869             593   \n",
       "freq                      3819   33749      33424           32946   \n",
       "mean                       NaN     NaN        NaN             NaN   \n",
       "std                        NaN     NaN        NaN             NaN   \n",
       "min                        NaN     NaN        NaN             NaN   \n",
       "25%                        NaN     NaN        NaN             NaN   \n",
       "50%                        NaN     NaN        NaN             NaN   \n",
       "75%                        NaN     NaN        NaN             NaN   \n",
       "max                        NaN     NaN        NaN             NaN   \n",
       "\n",
       "       transactionType currentBalance cardPresent expirationDateKeyInMatch  \\\n",
       "count           785665  786363.000000      786363                   786363   \n",
       "unique               3            NaN           2                        2   \n",
       "top           PURCHASE            NaN       False                    False   \n",
       "freq            745193            NaN      433495                   785320   \n",
       "mean               NaN    4508.739089         NaN                      NaN   \n",
       "std                NaN    6457.442068         NaN                      NaN   \n",
       "min                NaN       0.000000         NaN                      NaN   \n",
       "25%                NaN     689.910000         NaN                      NaN   \n",
       "50%                NaN    2451.760000         NaN                      NaN   \n",
       "75%                NaN    5291.095000         NaN                      NaN   \n",
       "max                NaN   47498.810000         NaN                      NaN   \n",
       "\n",
       "        isFraud  \n",
       "count    786363  \n",
       "unique        2  \n",
       "top       False  \n",
       "freq     773946  \n",
       "mean        NaN  \n",
       "std         NaN  \n",
       "min         NaN  \n",
       "25%         NaN  \n",
       "50%         NaN  \n",
       "75%         NaN  \n",
       "max         NaN  \n",
       "\n",
       "[11 rows x 23 columns]"
      ]
     },
     "execution_count": 9,
     "metadata": {},
     "output_type": "execute_result"
    }
   ],
   "source": [
    "df.describe(include = 'all')"
   ]
  },
  {
   "cell_type": "markdown",
   "metadata": {},
   "source": [
    "#### Question 2"
   ]
  },
  {
   "cell_type": "code",
   "execution_count": 10,
   "metadata": {},
   "outputs": [
    {
     "data": {
      "text/plain": [
       "count    786363.000000\n",
       "mean        136.985791\n",
       "std         147.725569\n",
       "min           0.000000\n",
       "25%          33.650000\n",
       "50%          87.900000\n",
       "99%         675.630400\n",
       "max        2011.540000\n",
       "Name: transactionAmount, dtype: float64"
      ]
     },
     "execution_count": 10,
     "metadata": {},
     "output_type": "execute_result"
    }
   ],
   "source": [
    "#Describing our column transaction amount\n",
    "df['transactionAmount'].describe(percentiles = [0.25,0.99])"
   ]
  },
  {
   "cell_type": "code",
   "execution_count": 11,
   "metadata": {},
   "outputs": [
    {
     "data": {
      "text/plain": [
       "<AxesSubplot:ylabel='Frequency'>"
      ]
     },
     "execution_count": 11,
     "metadata": {},
     "output_type": "execute_result"
    },
    {
     "data": {
      "image/png": "[encoded data removed]",
      "text/plain": [
       "<Figure size 432x288 with 1 Axes>"
      ]
     },
     "metadata": {
      "needs_background": "light"
     },
     "output_type": "display_data"
    }
   ],
   "source": [
    "df['transactionAmount'].plot.hist(bins = 30)"
   ]
  },
  {
   "cell_type": "code",
   "execution_count": 12,
   "metadata": {},
   "outputs": [
    {
     "data": {
      "image/png": "[encoded data removed]",
      "text/plain": [
       "<Figure size 640x480 with 1 Axes>"
      ]
     },
     "metadata": {
      "needs_background": "light"
     },
     "output_type": "display_data"
    }
   ],
   "source": [
    "from matplotlib.pyplot import figure\n",
    "\n",
    "figure(figsize=(8, 6), dpi=80)\n",
    "df.transactionAmount.plot.density(color='blue')\n",
    "plt.title('Density plot for transaction amount')\n",
    "plt.xlim([0, 675.63])\n",
    "plt.show()"
   ]
  },
  {
   "cell_type": "markdown",
   "metadata": {},
   "source": [
    "### Question 3"
   ]
  },
  {
   "cell_type": "code",
   "execution_count": 13,
   "metadata": {},
   "outputs": [],
   "source": [
    "from datetime import datetime\n",
    "from datetime import datetime, timedelta\n",
    "df['transactionDateTime'] = pd.to_datetime(df['transactionDateTime'], infer_datetime_format=True) \n",
    "transaction_data = df"
   ]
  },
  {
   "cell_type": "code",
   "execution_count": 14,
   "metadata": {},
   "outputs": [
    {
     "data": {
      "text/plain": [
       "PURCHASE                745193\n",
       "REVERSAL                 20303\n",
       "ADDRESS_VERIFICATION     20169\n",
       "Name: transactionType, dtype: int64"
      ]
     },
     "execution_count": 14,
     "metadata": {},
     "output_type": "execute_result"
    }
   ],
   "source": [
    "transaction_data['transactionType'].value_counts()"
   ]
  },
  {
   "cell_type": "markdown",
   "metadata": {},
   "source": [
    "### Methodology: To find the reversal transactions I make a few assumptions about the process of reversal.\n",
    "1. For every purchase in our transaction type column there should be a reversal\n",
    "2. If it is a reversed transaction then the balance after reversal should be higher than of the original purchase.\n",
    "3. at least one of the transaction times will be earlier than the other transaction time if it is reversed.\n",
    "4. Reversed transactions should be the same amount as the original purchase\n",
    " \n",
    "Following this logic, we first need to subset a dataframe to find where 'accountNumber', 'customerId', 'transactionAmount', 'merchantName' show up more than once, as every reversal should have these keys in common with its original purchase. Following finding the duplicate transactions we split the data into two groups: purchases and reversals so that when we inner join the two datasets we should have the common transactions that are the original purchase and the subsequent reversal of purchase. Then I check to see the condition that if the balance is higher after reversal and the transaction date of original purchase is before the date of the reverse\n",
    "\n"
   ]
  },
  {
   "cell_type": "code",
   "execution_count": 15,
   "metadata": {},
   "outputs": [],
   "source": [
    "duplicated_trans = transaction_data[transaction_data.duplicated(['accountNumber', 'customerId', 'transactionAmount', 'merchantName'], keep=False)]"
   ]
  },
  {
   "cell_type": "code",
   "execution_count": 16,
   "metadata": {},
   "outputs": [
    {
     "data": {
      "text/html": [
       "<div>\n",
       "<style scoped>\n",
       "    .dataframe tbody tr th:only-of-type {\n",
       "        vertical-align: middle;\n",
       "    }\n",
       "\n",
       "    .dataframe tbody tr th {\n",
       "        vertical-align: top;\n",
       "    }\n",
       "\n",
       "    .dataframe thead th {\n",
       "        text-align: right;\n",
       "    }\n",
       "</style>\n",
       "<table border=\"1\" class=\"dataframe\">\n",
       "  <thead>\n",
       "    <tr style=\"text-align: right;\">\n",
       "      <th></th>\n",
       "      <th>accountNumber</th>\n",
       "      <th>customerId</th>\n",
       "      <th>creditLimit</th>\n",
       "      <th>availableMoney</th>\n",
       "      <th>transactionDateTime</th>\n",
       "      <th>transactionAmount</th>\n",
       "      <th>merchantName</th>\n",
       "      <th>acqCountry</th>\n",
       "      <th>merchantCountryCode</th>\n",
       "      <th>posEntryMode</th>\n",
       "      <th>...</th>\n",
       "      <th>accountOpenDate</th>\n",
       "      <th>dateOfLastAddressChange</th>\n",
       "      <th>cardCVV</th>\n",
       "      <th>enteredCVV</th>\n",
       "      <th>cardLast4Digits</th>\n",
       "      <th>transactionType</th>\n",
       "      <th>currentBalance</th>\n",
       "      <th>cardPresent</th>\n",
       "      <th>expirationDateKeyInMatch</th>\n",
       "      <th>isFraud</th>\n",
       "    </tr>\n",
       "  </thead>\n",
       "  <tbody>\n",
       "    <tr>\n",
       "      <th>713743</th>\n",
       "      <td>633416049</td>\n",
       "      <td>633416049</td>\n",
       "      <td>5000.0</td>\n",
       "      <td>252.33</td>\n",
       "      <td>2016-03-13 01:06:47</td>\n",
       "      <td>0.00</td>\n",
       "      <td>1st BBQ</td>\n",
       "      <td>US</td>\n",
       "      <td>US</td>\n",
       "      <td>09</td>\n",
       "      <td>...</td>\n",
       "      <td>2013-10-06</td>\n",
       "      <td>2013-10-06</td>\n",
       "      <td>233</td>\n",
       "      <td>233</td>\n",
       "      <td>3149</td>\n",
       "      <td>ADDRESS_VERIFICATION</td>\n",
       "      <td>4747.67</td>\n",
       "      <td>False</td>\n",
       "      <td>False</td>\n",
       "      <td>False</td>\n",
       "    </tr>\n",
       "    <tr>\n",
       "      <th>713901</th>\n",
       "      <td>633416049</td>\n",
       "      <td>633416049</td>\n",
       "      <td>5000.0</td>\n",
       "      <td>2268.18</td>\n",
       "      <td>2016-12-03 20:15:01</td>\n",
       "      <td>0.00</td>\n",
       "      <td>1st BBQ</td>\n",
       "      <td>US</td>\n",
       "      <td>US</td>\n",
       "      <td>05</td>\n",
       "      <td>...</td>\n",
       "      <td>2013-10-06</td>\n",
       "      <td>2016-10-17</td>\n",
       "      <td>233</td>\n",
       "      <td>233</td>\n",
       "      <td>3149</td>\n",
       "      <td>ADDRESS_VERIFICATION</td>\n",
       "      <td>2731.82</td>\n",
       "      <td>False</td>\n",
       "      <td>False</td>\n",
       "      <td>False</td>\n",
       "    </tr>\n",
       "    <tr>\n",
       "      <th>735751</th>\n",
       "      <td>794946168</td>\n",
       "      <td>794946168</td>\n",
       "      <td>1000.0</td>\n",
       "      <td>292.91</td>\n",
       "      <td>2016-06-04 19:14:40</td>\n",
       "      <td>13.15</td>\n",
       "      <td>1st BBQ</td>\n",
       "      <td>US</td>\n",
       "      <td>US</td>\n",
       "      <td>05</td>\n",
       "      <td>...</td>\n",
       "      <td>2015-12-29</td>\n",
       "      <td>2015-12-29</td>\n",
       "      <td>571</td>\n",
       "      <td>571</td>\n",
       "      <td>8821</td>\n",
       "      <td>PURCHASE</td>\n",
       "      <td>707.09</td>\n",
       "      <td>True</td>\n",
       "      <td>False</td>\n",
       "      <td>False</td>\n",
       "    </tr>\n",
       "    <tr>\n",
       "      <th>735752</th>\n",
       "      <td>794946168</td>\n",
       "      <td>794946168</td>\n",
       "      <td>1000.0</td>\n",
       "      <td>279.76</td>\n",
       "      <td>2016-06-04 19:15:51</td>\n",
       "      <td>13.15</td>\n",
       "      <td>1st BBQ</td>\n",
       "      <td>US</td>\n",
       "      <td>US</td>\n",
       "      <td>05</td>\n",
       "      <td>...</td>\n",
       "      <td>2015-12-29</td>\n",
       "      <td>2015-12-29</td>\n",
       "      <td>571</td>\n",
       "      <td>571</td>\n",
       "      <td>8821</td>\n",
       "      <td>REVERSAL</td>\n",
       "      <td>720.24</td>\n",
       "      <td>True</td>\n",
       "      <td>False</td>\n",
       "      <td>False</td>\n",
       "    </tr>\n",
       "    <tr>\n",
       "      <th>438830</th>\n",
       "      <td>722406547</td>\n",
       "      <td>722406547</td>\n",
       "      <td>7500.0</td>\n",
       "      <td>6080.59</td>\n",
       "      <td>2016-09-04 03:53:58</td>\n",
       "      <td>13.20</td>\n",
       "      <td>1st BBQ</td>\n",
       "      <td>US</td>\n",
       "      <td>US</td>\n",
       "      <td>05</td>\n",
       "      <td>...</td>\n",
       "      <td>2010-02-08</td>\n",
       "      <td>2016-07-12</td>\n",
       "      <td>640</td>\n",
       "      <td>640</td>\n",
       "      <td>2326</td>\n",
       "      <td>PURCHASE</td>\n",
       "      <td>1419.41</td>\n",
       "      <td>True</td>\n",
       "      <td>False</td>\n",
       "      <td>False</td>\n",
       "    </tr>\n",
       "    <tr>\n",
       "      <th>...</th>\n",
       "      <td>...</td>\n",
       "      <td>...</td>\n",
       "      <td>...</td>\n",
       "      <td>...</td>\n",
       "      <td>...</td>\n",
       "      <td>...</td>\n",
       "      <td>...</td>\n",
       "      <td>...</td>\n",
       "      <td>...</td>\n",
       "      <td>...</td>\n",
       "      <td>...</td>\n",
       "      <td>...</td>\n",
       "      <td>...</td>\n",
       "      <td>...</td>\n",
       "      <td>...</td>\n",
       "      <td>...</td>\n",
       "      <td>...</td>\n",
       "      <td>...</td>\n",
       "      <td>...</td>\n",
       "      <td>...</td>\n",
       "      <td>...</td>\n",
       "    </tr>\n",
       "    <tr>\n",
       "      <th>750302</th>\n",
       "      <td>405648828</td>\n",
       "      <td>405648828</td>\n",
       "      <td>7500.0</td>\n",
       "      <td>3021.47</td>\n",
       "      <td>2016-09-29 21:56:59</td>\n",
       "      <td>148.88</td>\n",
       "      <td>williamssonoma.com</td>\n",
       "      <td>US</td>\n",
       "      <td>US</td>\n",
       "      <td>05</td>\n",
       "      <td>...</td>\n",
       "      <td>2013-01-15</td>\n",
       "      <td>2013-01-15</td>\n",
       "      <td>951</td>\n",
       "      <td>951</td>\n",
       "      <td>9454</td>\n",
       "      <td>REVERSAL</td>\n",
       "      <td>4478.53</td>\n",
       "      <td>True</td>\n",
       "      <td>False</td>\n",
       "      <td>False</td>\n",
       "    </tr>\n",
       "    <tr>\n",
       "      <th>606705</th>\n",
       "      <td>599847715</td>\n",
       "      <td>599847715</td>\n",
       "      <td>2500.0</td>\n",
       "      <td>725.88</td>\n",
       "      <td>2016-02-15 06:44:12</td>\n",
       "      <td>246.42</td>\n",
       "      <td>williamssonoma.com</td>\n",
       "      <td>CAN</td>\n",
       "      <td>CAN</td>\n",
       "      <td>02</td>\n",
       "      <td>...</td>\n",
       "      <td>2014-04-03</td>\n",
       "      <td>2016-01-20</td>\n",
       "      <td>243</td>\n",
       "      <td>243</td>\n",
       "      <td>9104</td>\n",
       "      <td>PURCHASE</td>\n",
       "      <td>1774.12</td>\n",
       "      <td>True</td>\n",
       "      <td>False</td>\n",
       "      <td>False</td>\n",
       "    </tr>\n",
       "    <tr>\n",
       "      <th>606706</th>\n",
       "      <td>599847715</td>\n",
       "      <td>599847715</td>\n",
       "      <td>2500.0</td>\n",
       "      <td>479.46</td>\n",
       "      <td>2016-02-15 06:46:06</td>\n",
       "      <td>246.42</td>\n",
       "      <td>williamssonoma.com</td>\n",
       "      <td>CAN</td>\n",
       "      <td>CAN</td>\n",
       "      <td>02</td>\n",
       "      <td>...</td>\n",
       "      <td>2014-04-03</td>\n",
       "      <td>2016-01-20</td>\n",
       "      <td>243</td>\n",
       "      <td>243</td>\n",
       "      <td>9104</td>\n",
       "      <td>REVERSAL</td>\n",
       "      <td>2020.54</td>\n",
       "      <td>True</td>\n",
       "      <td>False</td>\n",
       "      <td>False</td>\n",
       "    </tr>\n",
       "    <tr>\n",
       "      <th>683285</th>\n",
       "      <td>640419026</td>\n",
       "      <td>640419026</td>\n",
       "      <td>50000.0</td>\n",
       "      <td>36337.30</td>\n",
       "      <td>2016-07-13 10:21:06</td>\n",
       "      <td>257.56</td>\n",
       "      <td>williamssonoma.com</td>\n",
       "      <td>NaN</td>\n",
       "      <td>US</td>\n",
       "      <td>09</td>\n",
       "      <td>...</td>\n",
       "      <td>2015-05-19</td>\n",
       "      <td>2015-05-19</td>\n",
       "      <td>769</td>\n",
       "      <td>769</td>\n",
       "      <td>7003</td>\n",
       "      <td>PURCHASE</td>\n",
       "      <td>13662.70</td>\n",
       "      <td>True</td>\n",
       "      <td>False</td>\n",
       "      <td>False</td>\n",
       "    </tr>\n",
       "    <tr>\n",
       "      <th>683286</th>\n",
       "      <td>640419026</td>\n",
       "      <td>640419026</td>\n",
       "      <td>50000.0</td>\n",
       "      <td>36079.74</td>\n",
       "      <td>2016-07-13 10:21:40</td>\n",
       "      <td>257.56</td>\n",
       "      <td>williamssonoma.com</td>\n",
       "      <td>NaN</td>\n",
       "      <td>US</td>\n",
       "      <td>09</td>\n",
       "      <td>...</td>\n",
       "      <td>2015-05-19</td>\n",
       "      <td>2015-05-19</td>\n",
       "      <td>769</td>\n",
       "      <td>769</td>\n",
       "      <td>7003</td>\n",
       "      <td>PURCHASE</td>\n",
       "      <td>13920.26</td>\n",
       "      <td>True</td>\n",
       "      <td>False</td>\n",
       "      <td>False</td>\n",
       "    </tr>\n",
       "  </tbody>\n",
       "</table>\n",
       "<p>110307 rows × 23 columns</p>\n",
       "</div>"
      ],
      "text/plain": [
       "       accountNumber customerId  creditLimit  availableMoney  \\\n",
       "713743     633416049  633416049       5000.0          252.33   \n",
       "713901     633416049  633416049       5000.0         2268.18   \n",
       "735751     794946168  794946168       1000.0          292.91   \n",
       "735752     794946168  794946168       1000.0          279.76   \n",
       "438830     722406547  722406547       7500.0         6080.59   \n",
       "...              ...        ...          ...             ...   \n",
       "750302     405648828  405648828       7500.0         3021.47   \n",
       "606705     599847715  599847715       2500.0          725.88   \n",
       "606706     599847715  599847715       2500.0          479.46   \n",
       "683285     640419026  640419026      50000.0        36337.30   \n",
       "683286     640419026  640419026      50000.0        36079.74   \n",
       "\n",
       "       transactionDateTime  transactionAmount        merchantName acqCountry  \\\n",
       "713743 2016-03-13 01:06:47               0.00             1st BBQ         US   \n",
       "713901 2016-12-03 20:15:01               0.00             1st BBQ         US   \n",
       "735751 2016-06-04 19:14:40              13.15             1st BBQ         US   \n",
       "735752 2016-06-04 19:15:51              13.15             1st BBQ         US   \n",
       "438830 2016-09-04 03:53:58              13.20             1st BBQ         US   \n",
       "...                    ...                ...                 ...        ...   \n",
       "750302 2016-09-29 21:56:59             148.88  williamssonoma.com         US   \n",
       "606705 2016-02-15 06:44:12             246.42  williamssonoma.com        CAN   \n",
       "606706 2016-02-15 06:46:06             246.42  williamssonoma.com        CAN   \n",
       "683285 2016-07-13 10:21:06             257.56  williamssonoma.com        NaN   \n",
       "683286 2016-07-13 10:21:40             257.56  williamssonoma.com        NaN   \n",
       "\n",
       "       merchantCountryCode posEntryMode  ... accountOpenDate  \\\n",
       "713743                  US           09  ...      2013-10-06   \n",
       "713901                  US           05  ...      2013-10-06   \n",
       "735751                  US           05  ...      2015-12-29   \n",
       "735752                  US           05  ...      2015-12-29   \n",
       "438830                  US           05  ...      2010-02-08   \n",
       "...                    ...          ...  ...             ...   \n",
       "750302                  US           05  ...      2013-01-15   \n",
       "606705                 CAN           02  ...      2014-04-03   \n",
       "606706                 CAN           02  ...      2014-04-03   \n",
       "683285                  US           09  ...      2015-05-19   \n",
       "683286                  US           09  ...      2015-05-19   \n",
       "\n",
       "       dateOfLastAddressChange cardCVV enteredCVV cardLast4Digits  \\\n",
       "713743              2013-10-06     233        233            3149   \n",
       "713901              2016-10-17     233        233            3149   \n",
       "735751              2015-12-29     571        571            8821   \n",
       "735752              2015-12-29     571        571            8821   \n",
       "438830              2016-07-12     640        640            2326   \n",
       "...                        ...     ...        ...             ...   \n",
       "750302              2013-01-15     951        951            9454   \n",
       "606705              2016-01-20     243        243            9104   \n",
       "606706              2016-01-20     243        243            9104   \n",
       "683285              2015-05-19     769        769            7003   \n",
       "683286              2015-05-19     769        769            7003   \n",
       "\n",
       "             transactionType currentBalance cardPresent  \\\n",
       "713743  ADDRESS_VERIFICATION        4747.67       False   \n",
       "713901  ADDRESS_VERIFICATION        2731.82       False   \n",
       "735751              PURCHASE         707.09        True   \n",
       "735752              REVERSAL         720.24        True   \n",
       "438830              PURCHASE        1419.41        True   \n",
       "...                      ...            ...         ...   \n",
       "750302              REVERSAL        4478.53        True   \n",
       "606705              PURCHASE        1774.12        True   \n",
       "606706              REVERSAL        2020.54        True   \n",
       "683285              PURCHASE       13662.70        True   \n",
       "683286              PURCHASE       13920.26        True   \n",
       "\n",
       "       expirationDateKeyInMatch  isFraud  \n",
       "713743                    False    False  \n",
       "713901                    False    False  \n",
       "735751                    False    False  \n",
       "735752                    False    False  \n",
       "438830                    False    False  \n",
       "...                         ...      ...  \n",
       "750302                    False    False  \n",
       "606705                    False    False  \n",
       "606706                    False    False  \n",
       "683285                    False    False  \n",
       "683286                    False    False  \n",
       "\n",
       "[110307 rows x 23 columns]"
      ]
     },
     "execution_count": 16,
     "metadata": {},
     "output_type": "execute_result"
    }
   ],
   "source": [
    "purchases = transaction_data[transaction_data['transactionType'] ==\"PURCHASE\"]\n",
    "reversals = transaction_data[transaction_data['transactionType'] ==\"REVERSAL\"]\n",
    "duplicated_trans.sort_values(['merchantName','transactionAmount','transactionType'])\n"
   ]
  },
  {
   "cell_type": "code",
   "execution_count": 17,
   "metadata": {},
   "outputs": [
    {
     "data": {
      "text/plain": [
       "(18143, 42)"
      ]
     },
     "execution_count": 17,
     "metadata": {},
     "output_type": "execute_result"
    }
   ],
   "source": [
    "reversal_df = pd.merge(purchases,reversals, how = 'inner' , on = ['accountNumber','customerId','merchantName','transactionAmount'], validate='many_to_many')\n",
    "reversal_df.shape"
   ]
  },
  {
   "cell_type": "code",
   "execution_count": 18,
   "metadata": {},
   "outputs": [],
   "source": [
    "reversal_df = reversal_df[(reversal_df.currentBalance_y > reversal_df.currentBalance_x) | (reversal_df.transactionDateTime_x  < reversal_df.transactionDateTime_y)]"
   ]
  },
  {
   "cell_type": "code",
   "execution_count": 19,
   "metadata": {},
   "outputs": [
    {
     "data": {
      "text/html": [
       "<div>\n",
       "<style scoped>\n",
       "    .dataframe tbody tr th:only-of-type {\n",
       "        vertical-align: middle;\n",
       "    }\n",
       "\n",
       "    .dataframe tbody tr th {\n",
       "        vertical-align: top;\n",
       "    }\n",
       "\n",
       "    .dataframe thead th {\n",
       "        text-align: right;\n",
       "    }\n",
       "</style>\n",
       "<table border=\"1\" class=\"dataframe\">\n",
       "  <thead>\n",
       "    <tr style=\"text-align: right;\">\n",
       "      <th></th>\n",
       "      <th>accountNumber</th>\n",
       "      <th>customerId</th>\n",
       "      <th>creditLimit</th>\n",
       "      <th>availableMoney</th>\n",
       "      <th>transactionDateTime</th>\n",
       "      <th>transactionAmount</th>\n",
       "      <th>merchantName</th>\n",
       "      <th>acqCountry</th>\n",
       "      <th>merchantCountryCode</th>\n",
       "      <th>posEntryMode</th>\n",
       "      <th>...</th>\n",
       "      <th>accountOpenDate</th>\n",
       "      <th>dateOfLastAddressChange</th>\n",
       "      <th>cardCVV</th>\n",
       "      <th>enteredCVV</th>\n",
       "      <th>cardLast4Digits</th>\n",
       "      <th>transactionType</th>\n",
       "      <th>currentBalance</th>\n",
       "      <th>cardPresent</th>\n",
       "      <th>expirationDateKeyInMatch</th>\n",
       "      <th>isFraud</th>\n",
       "    </tr>\n",
       "  </thead>\n",
       "  <tbody>\n",
       "    <tr>\n",
       "      <th>232563</th>\n",
       "      <td>895803188</td>\n",
       "      <td>895803188</td>\n",
       "      <td>7500.0</td>\n",
       "      <td>6202.32</td>\n",
       "      <td>2016-03-07 18:06:31</td>\n",
       "      <td>22.09</td>\n",
       "      <td>1st BBQ</td>\n",
       "      <td>US</td>\n",
       "      <td>US</td>\n",
       "      <td>05</td>\n",
       "      <td>...</td>\n",
       "      <td>2013-01-26</td>\n",
       "      <td>2013-01-26</td>\n",
       "      <td>944</td>\n",
       "      <td>944</td>\n",
       "      <td>8107</td>\n",
       "      <td>PURCHASE</td>\n",
       "      <td>1297.68</td>\n",
       "      <td>True</td>\n",
       "      <td>False</td>\n",
       "      <td>False</td>\n",
       "    </tr>\n",
       "    <tr>\n",
       "      <th>232564</th>\n",
       "      <td>895803188</td>\n",
       "      <td>895803188</td>\n",
       "      <td>7500.0</td>\n",
       "      <td>6180.23</td>\n",
       "      <td>2016-03-07 18:07:56</td>\n",
       "      <td>22.09</td>\n",
       "      <td>1st BBQ</td>\n",
       "      <td>US</td>\n",
       "      <td>US</td>\n",
       "      <td>05</td>\n",
       "      <td>...</td>\n",
       "      <td>2013-01-26</td>\n",
       "      <td>2013-01-26</td>\n",
       "      <td>944</td>\n",
       "      <td>944</td>\n",
       "      <td>8107</td>\n",
       "      <td>PURCHASE</td>\n",
       "      <td>1319.77</td>\n",
       "      <td>True</td>\n",
       "      <td>False</td>\n",
       "      <td>False</td>\n",
       "    </tr>\n",
       "    <tr>\n",
       "      <th>232565</th>\n",
       "      <td>895803188</td>\n",
       "      <td>895803188</td>\n",
       "      <td>7500.0</td>\n",
       "      <td>6158.14</td>\n",
       "      <td>2016-03-07 18:09:40</td>\n",
       "      <td>22.09</td>\n",
       "      <td>1st BBQ</td>\n",
       "      <td>US</td>\n",
       "      <td>US</td>\n",
       "      <td>05</td>\n",
       "      <td>...</td>\n",
       "      <td>2013-01-26</td>\n",
       "      <td>2013-01-26</td>\n",
       "      <td>944</td>\n",
       "      <td>944</td>\n",
       "      <td>8107</td>\n",
       "      <td>PURCHASE</td>\n",
       "      <td>1341.86</td>\n",
       "      <td>True</td>\n",
       "      <td>False</td>\n",
       "      <td>False</td>\n",
       "    </tr>\n",
       "    <tr>\n",
       "      <th>640752</th>\n",
       "      <td>640316790</td>\n",
       "      <td>640316790</td>\n",
       "      <td>2500.0</td>\n",
       "      <td>2500.00</td>\n",
       "      <td>2016-03-12 04:58:58</td>\n",
       "      <td>47.96</td>\n",
       "      <td>1st BBQ</td>\n",
       "      <td>US</td>\n",
       "      <td>US</td>\n",
       "      <td>05</td>\n",
       "      <td>...</td>\n",
       "      <td>2015-10-09</td>\n",
       "      <td>2015-10-09</td>\n",
       "      <td>544</td>\n",
       "      <td>544</td>\n",
       "      <td>0000</td>\n",
       "      <td>PURCHASE</td>\n",
       "      <td>0.00</td>\n",
       "      <td>True</td>\n",
       "      <td>False</td>\n",
       "      <td>False</td>\n",
       "    </tr>\n",
       "    <tr>\n",
       "      <th>640753</th>\n",
       "      <td>640316790</td>\n",
       "      <td>640316790</td>\n",
       "      <td>2500.0</td>\n",
       "      <td>2452.04</td>\n",
       "      <td>2016-03-12 05:01:53</td>\n",
       "      <td>47.96</td>\n",
       "      <td>1st BBQ</td>\n",
       "      <td>US</td>\n",
       "      <td>US</td>\n",
       "      <td>05</td>\n",
       "      <td>...</td>\n",
       "      <td>2015-10-09</td>\n",
       "      <td>2015-10-09</td>\n",
       "      <td>544</td>\n",
       "      <td>544</td>\n",
       "      <td>0000</td>\n",
       "      <td>PURCHASE</td>\n",
       "      <td>47.96</td>\n",
       "      <td>True</td>\n",
       "      <td>False</td>\n",
       "      <td>False</td>\n",
       "    </tr>\n",
       "  </tbody>\n",
       "</table>\n",
       "<p>5 rows × 23 columns</p>\n",
       "</div>"
      ],
      "text/plain": [
       "       accountNumber customerId  creditLimit  availableMoney  \\\n",
       "232563     895803188  895803188       7500.0         6202.32   \n",
       "232564     895803188  895803188       7500.0         6180.23   \n",
       "232565     895803188  895803188       7500.0         6158.14   \n",
       "640752     640316790  640316790       2500.0         2500.00   \n",
       "640753     640316790  640316790       2500.0         2452.04   \n",
       "\n",
       "       transactionDateTime  transactionAmount merchantName acqCountry  \\\n",
       "232563 2016-03-07 18:06:31              22.09      1st BBQ         US   \n",
       "232564 2016-03-07 18:07:56              22.09      1st BBQ         US   \n",
       "232565 2016-03-07 18:09:40              22.09      1st BBQ         US   \n",
       "640752 2016-03-12 04:58:58              47.96      1st BBQ         US   \n",
       "640753 2016-03-12 05:01:53              47.96      1st BBQ         US   \n",
       "\n",
       "       merchantCountryCode posEntryMode  ... accountOpenDate  \\\n",
       "232563                  US           05  ...      2013-01-26   \n",
       "232564                  US           05  ...      2013-01-26   \n",
       "232565                  US           05  ...      2013-01-26   \n",
       "640752                  US           05  ...      2015-10-09   \n",
       "640753                  US           05  ...      2015-10-09   \n",
       "\n",
       "       dateOfLastAddressChange cardCVV enteredCVV cardLast4Digits  \\\n",
       "232563              2013-01-26     944        944            8107   \n",
       "232564              2013-01-26     944        944            8107   \n",
       "232565              2013-01-26     944        944            8107   \n",
       "640752              2015-10-09     544        544            0000   \n",
       "640753              2015-10-09     544        544            0000   \n",
       "\n",
       "       transactionType currentBalance cardPresent expirationDateKeyInMatch  \\\n",
       "232563        PURCHASE        1297.68        True                    False   \n",
       "232564        PURCHASE        1319.77        True                    False   \n",
       "232565        PURCHASE        1341.86        True                    False   \n",
       "640752        PURCHASE           0.00        True                    False   \n",
       "640753        PURCHASE          47.96        True                    False   \n",
       "\n",
       "        isFraud  \n",
       "232563    False  \n",
       "232564    False  \n",
       "232565    False  \n",
       "640752    False  \n",
       "640753    False  \n",
       "\n",
       "[5 rows x 23 columns]"
      ]
     },
     "execution_count": 19,
     "metadata": {},
     "output_type": "execute_result"
    }
   ],
   "source": [
    "multi_swipes = purchases[purchases.duplicated(['accountNumber', 'customerId', 'transactionAmount', 'merchantName'], keep=False)]\n",
    "multi_swipes.sort_values(['merchantName','transactionAmount']).head(5)\n"
   ]
  },
  {
   "cell_type": "markdown",
   "metadata": {},
   "source": [
    "### Methodology: To find the Multiswipe transactions I make a few assumptions about the process of multiswipe transactions.\n",
    "1. Transactions should happen within a short time period of each other, I am assuming at the most a few minutes as multiswipes happen consecutively\n",
    "2. Multiswipe transactions should have the same transaction amount for each consecutive transaction.\n",
    " \n",
    "Following this logic, we first create the data from the purchases dataset that could potentially have all the multiswipes. Then we sort this data by their merchant name and transaction amount, as multiswipes would have these keys in common.\n",
    "Following this we then need to calculate the time span between the multi swipe purchases. We use df.diff() for this purpose as it finds the difference of objects over the axis, and converts this column to seconds so we can analyze it further. \n",
    "I assume that multi-swiped transactions happen within 5 minutes and consider the first multiswipe transaction to be a valid purchase and the following subsequent transactions to be multi swiped.\n"
   ]
  },
  {
   "cell_type": "code",
   "execution_count": 20,
   "metadata": {},
   "outputs": [
    {
     "name": "stderr",
     "output_type": "stream",
     "text": [
      "C:\\Users\\John Zhang\\AppData\\Local\\Temp\\ipykernel_11820\\734702334.py:1: SettingWithCopyWarning: \n",
      "A value is trying to be set on a copy of a slice from a DataFrame.\n",
      "Try using .loc[row_indexer,col_indexer] = value instead\n",
      "\n",
      "See the caveats in the documentation: https://pandas.pydata.org/pandas-docs/stable/user_guide/indexing.html#returning-a-view-versus-a-copy\n",
      "  multi_swipes['time_diff'] = multi_swipes[('transactionDateTime')].diff(1).dt.total_seconds().apply(lambda x: x / 3600)\n"
     ]
    }
   ],
   "source": [
    "multi_swipes['time_diff'] = multi_swipes[('transactionDateTime')].diff(1).dt.total_seconds().apply(lambda x: x / 3600)"
   ]
  },
  {
   "cell_type": "code",
   "execution_count": 21,
   "metadata": {},
   "outputs": [],
   "source": [
    "multi_swipes.groupby(['accountNumber', 'customerId', 'merchantName', 'transactionAmount'])\n",
    "multi_swipes = multi_swipes[multi_swipes['time_diff'].between(0,300)]\n"
   ]
  },
  {
   "cell_type": "code",
   "execution_count": 22,
   "metadata": {},
   "outputs": [],
   "source": [
    "'''\n",
    "By applying this lambda function we are able to filter out the first \"valid\" purchase for each group of multiswipe transactions. Therefore the remaining rows are the erroneous swipes.\n",
    "'''\n",
    "multi_swipes = multi_swipes.apply(lambda group: group.iloc[1:]) "
   ]
  },
  {
   "cell_type": "code",
   "execution_count": 23,
   "metadata": {},
   "outputs": [
    {
     "name": "stdout",
     "output_type": "stream",
     "text": [
      "Number of reverse Transactions 18081  the sum of the reverse transactions is 2709243.5\n"
     ]
    }
   ],
   "source": [
    "print('Number of reverse Transactions', len(reversal_df) , ' the sum of the reverse transactions is',reversal_df['transactionAmount'].sum() )"
   ]
  },
  {
   "cell_type": "code",
   "execution_count": 24,
   "metadata": {},
   "outputs": [
    {
     "name": "stdout",
     "output_type": "stream",
     "text": [
      "Number of multiswiped Transactions 33682  the sum of the multiswiped Transactions is 2579905.05\n"
     ]
    }
   ],
   "source": [
    "print('Number of multiswiped Transactions', len(multi_swipes) , ' the sum of the multiswiped Transactions is',multi_swipes['transactionAmount'].sum() )"
   ]
  },
  {
   "cell_type": "code",
   "execution_count": 25,
   "metadata": {},
   "outputs": [],
   "source": [
    "import seaborn as sns\n",
    "import matplotlib.pyplot as plt\n",
    "\n",
    "reversal_df['time_difference'] = (reversal_df.transactionDateTime_y - reversal_df.transactionDateTime_x).apply(lambda x: x / np.timedelta64(1,'D'))"
   ]
  },
  {
   "cell_type": "code",
   "execution_count": 26,
   "metadata": {},
   "outputs": [
    {
     "data": {
      "image/png": "[encoded data removed]",
      "text/plain": [
       "<Figure size 640x480 with 1 Axes>"
      ]
     },
     "metadata": {
      "needs_background": "light"
     },
     "output_type": "display_data"
    }
   ],
   "source": [
    "from matplotlib.pyplot import figure\n",
    "\n",
    "figure(figsize=(8, 6), dpi=80)\n",
    "reversal_df.time_difference.plot.density(color='green')\n",
    "plt.title('Density plot for reversal_df transactions based on days past transaction')\n",
    "plt.xlim([0, 50])\n",
    "plt.show()"
   ]
  },
  {
   "cell_type": "code",
   "execution_count": 27,
   "metadata": {},
   "outputs": [
    {
     "data": {
      "image/png": "[encoded data removed]",
      "text/plain": [
       "<Figure size 640x480 with 1 Axes>"
      ]
     },
     "metadata": {
      "needs_background": "light"
     },
     "output_type": "display_data"
    }
   ],
   "source": [
    "figure(figsize=(8, 6), dpi=80)\n",
    "multi_swipes.time_diff.plot.density(color='green')\n",
    "plt.title('Density plot for multi_swipes transactions based on seconds past transaction')\n",
    "plt.xlim([0, 500])\n",
    "plt.show()"
   ]
  },
  {
   "cell_type": "markdown",
   "metadata": {},
   "source": [
    "### Observations\n",
    "Because I based identifying reversal and multiswipe transactions based on their transaction dates, I created the two density plots visualizing the time span between both events. From these graphs we see that most reversal transactions take place between 0 - 8 days. Comparatively most multiswipe transactions happen within 0- 4 minutes (0 -240 seconds). This makes sense as multiswipe transactions are by definition consecutive purchases registered by the vendor in successive order.\n"
   ]
  },
  {
   "cell_type": "code",
   "execution_count": 28,
   "metadata": {},
   "outputs": [
    {
     "data": {
      "text/plain": [
       "<AxesSubplot:>"
      ]
     },
     "execution_count": 28,
     "metadata": {},
     "output_type": "execute_result"
    },
    {
     "data": {
      "image/png": "[encoded data removed]",
      "text/plain": [
       "<Figure size 432x288 with 1 Axes>"
      ]
     },
     "metadata": {
      "needs_background": "light"
     },
     "output_type": "display_data"
    }
   ],
   "source": [
    "reversal_df.merchantName.value_counts()[:10].sort_values(ascending=False).plot(kind='barh')"
   ]
  },
  {
   "cell_type": "code",
   "execution_count": 29,
   "metadata": {},
   "outputs": [
    {
     "data": {
      "text/plain": [
       "<AxesSubplot:>"
      ]
     },
     "execution_count": 29,
     "metadata": {},
     "output_type": "execute_result"
    },
    {
     "data": {
      "image/png": "[encoded data removed]",
      "text/plain": [
       "<Figure size 432x288 with 1 Axes>"
      ]
     },
     "metadata": {
      "needs_background": "light"
     },
     "output_type": "display_data"
    }
   ],
   "source": [
    "multi_swipes.merchantName.value_counts()[:10].sort_values(ascending=False).plot(kind='barh')"
   ]
  },
  {
   "cell_type": "markdown",
   "metadata": {},
   "source": [
    "#### Obersvations \n",
    "Analyzing our reversal transactions we see that the most common kinds of transactions come from ride sharing services. Comparatively we see from our multiswipe transactions that the most common transactions are music and entertainment services. "
   ]
  },
  {
   "cell_type": "markdown",
   "metadata": {},
   "source": [
    "### Question 4"
   ]
  },
  {
   "cell_type": "markdown",
   "metadata": {},
   "source": [
    "#### Model PreProcessing"
   ]
  },
  {
   "cell_type": "code",
   "execution_count": 30,
   "metadata": {},
   "outputs": [],
   "source": [
    "model_data = df"
   ]
  },
  {
   "cell_type": "code",
   "execution_count": 31,
   "metadata": {},
   "outputs": [],
   "source": [
    "\n",
    "model_data.drop([\n",
    "         'cardLast4Digits',\n",
    "         'accountOpenDate',\n",
    "         'transactionDateTime',\n",
    "         'currentExpDate',\n",
    "         'customerId',\n",
    "         'dateOfLastAddressChange',\n",
    "         'accountNumber',\n",
    "         'enteredCVV',\n",
    "         'cardCVV',\n",
    "         'merchantName'\n",
    "         ], inplace=True, axis=1)"
   ]
  },
  {
   "cell_type": "code",
   "execution_count": 32,
   "metadata": {},
   "outputs": [
    {
     "data": {
      "text/plain": [
       "creditLimit                    0\n",
       "availableMoney                 0\n",
       "transactionAmount              0\n",
       "acqCountry                  4562\n",
       "merchantCountryCode          724\n",
       "posEntryMode                4054\n",
       "posConditionCode             409\n",
       "merchantCategoryCode           0\n",
       "transactionType              698\n",
       "currentBalance                 0\n",
       "cardPresent                    0\n",
       "expirationDateKeyInMatch       0\n",
       "isFraud                        0\n",
       "dtype: int64"
      ]
     },
     "execution_count": 32,
     "metadata": {},
     "output_type": "execute_result"
    }
   ],
   "source": [
    "model_data.isnull().sum()"
   ]
  },
  {
   "cell_type": "code",
   "execution_count": 33,
   "metadata": {},
   "outputs": [],
   "source": [
    "for features in ['cardPresent','expirationDateKeyInMatch','isFraud']:\n",
    "    model_data[features] = model_data[features].replace({False:0,True:1})"
   ]
  },
  {
   "cell_type": "code",
   "execution_count": 34,
   "metadata": {},
   "outputs": [],
   "source": [
    "y = model_data['isFraud']\n",
    "model_data.drop('isFraud', inplace=True, axis=1)\n"
   ]
  },
  {
   "cell_type": "markdown",
   "metadata": {},
   "source": [
    "#### One Hot Encoding"
   ]
  },
  {
   "cell_type": "code",
   "execution_count": 35,
   "metadata": {},
   "outputs": [],
   "source": [
    "encoded_features = pd.get_dummies(model_data, columns=['merchantCountryCode',\n",
    "      'merchantCategoryCode',\n",
    "      'posConditionCode',\n",
    "      'posEntryMode',\n",
    "      'transactionType',\n",
    "      'acqCountry']\n",
    ")\n",
    "encoded_features = encoded_features.replace(np.nan,0)"
   ]
  },
  {
   "cell_type": "markdown",
   "metadata": {},
   "source": [
    "#### PLotting helper function"
   ]
  },
  {
   "cell_type": "code",
   "execution_count": 36,
   "metadata": {},
   "outputs": [],
   "source": [
    "from sklearn.metrics import confusion_matrix\n",
    "def plot_cm(classifier, predictions):\n",
    "    cm = confusion_matrix(y_test, predictions)\n",
    "    \n",
    "    plt.clf()\n",
    "    plt.imshow(cm, interpolation='nearest', cmap='RdBu')\n",
    "    classNames = ['Normal','Fraud']\n",
    "    plt.ylabel('True label')\n",
    "    plt.xlabel('Predicted label')\n",
    "    tick_marks = np.arange(len(classNames))\n",
    "    plt.xticks(tick_marks, classNames, rotation=45)\n",
    "    plt.yticks(tick_marks, classNames)\n",
    "    s = [['TN','FP'], ['FN', 'TP']]\n",
    "    \n",
    "    for i in range(2):\n",
    "        for j in range(2):\n",
    "            plt.text(j,i, str(s[i][j])+\" = \"+str(cm[i][j]), \n",
    "                     horizontalalignment='center', color='White')\n",
    "    \n",
    "    plt.show()\n",
    "        \n",
    "    tn, fp, fn, tp = cm.ravel()\n",
    "\n",
    "    recall = tp / (tp + fn)\n",
    "    precision = tp / (tp + fp)\n",
    "    F1 = 2*recall*precision/(recall+precision)\n",
    "\n",
    "    print('Recall={0:0.3f}'.format(recall),'\\nPrecision={0:0.3f}'.format(precision))\n",
    "    print('F1={0:0.3f}'.format(F1))\n",
    "\n",
    "    ### CITED FROM https://www.kaggle.com/code/andreanuzzo/balance-the-imbalanced-rf-and-xgboost-with-smote/notebook For Visualization and model reporting purposes."
   ]
  },
  {
   "cell_type": "markdown",
   "metadata": {},
   "source": [
    "### Data Augmentation Using Smote\n",
    "\n"
   ]
  },
  {
   "cell_type": "markdown",
   "metadata": {},
   "source": [
    "Imbalanced classification can have an adverse impact on machine learning models as they will be more biased toward the majority class. After research my proposed solution to this problem is to utilize Synthetic Minority Oversampling Technique: or\n",
    "SMOTE. Smote augments the data to synthetically create new data points for the minority class. (fraudulent transactions) Smote works by selecting instances that are close in feature space and then creating a line between the two instances\n",
    "in the feature space and generating a new sample at a point on the line. As described by Nitesh Chawla, utilizing SMOTE in tandem with an undersampling technique has been shown to improve model performance. Drawing from this research I will utilize both SMOTE and a undersampling technique to help balance the class distributions\n"
   ]
  },
  {
   "cell_type": "code",
   "execution_count": 37,
   "metadata": {},
   "outputs": [],
   "source": [
    "x_train, x_test, y_train, y_test = train_test_split(encoded_features, y,stratify = y,test_size = 0.25)\n"
   ]
  },
  {
   "cell_type": "code",
   "execution_count": 38,
   "metadata": {},
   "outputs": [],
   "source": [
    "oversample  = SMOTE(sampling_strategy=0.55)\n",
    "under_sample = RandomUnderSampler(sampling_strategy=0.4)\n",
    "x_smote, y_smote = under_sample.fit_resample(x_train,y_train)\n",
    "x_smote,y_smote = oversample.fit_resample(x_smote,y_smote)"
   ]
  },
  {
   "cell_type": "code",
   "execution_count": 39,
   "metadata": {},
   "outputs": [
    {
     "data": {
      "text/plain": [
       "0    23282\n",
       "1    12805\n",
       "Name: isFraud, dtype: int64"
      ]
     },
     "execution_count": 39,
     "metadata": {},
     "output_type": "execute_result"
    }
   ],
   "source": [
    "y_smote.value_counts()"
   ]
  },
  {
   "cell_type": "markdown",
   "metadata": {},
   "source": [
    "### Model Selection and Comparison\n",
    "\n"
   ]
  },
  {
   "cell_type": "markdown",
   "metadata": {},
   "source": [
    "For my model building I wanted to analyze the performance of XGBOOST, Randomforest, and a naive regression on flagging fraudulent transactions. XGBOOST is an ensemble method that builds trees sequentially.\n",
    "Each tree built aims to reduce the errors of the previous tree, therefore each tree learns from the previous trees and updates residual errors. Furthermore it minimizes both regularizers (L1 and L2) to help reduce overfitting and uses a gradient descent algorithm to minimize the loss function. Comparatively random forest is a collection of decision trees. It utilizes bagging and random variable feature selection when building each decision tree to create a forest of trees whose prediction is made by a majority vote. Lastly I wanted to use a logistic regression algorithm to establish a baseline for model performance\n"
   ]
  },
  {
   "cell_type": "markdown",
   "metadata": {},
   "source": [
    "## Models"
   ]
  },
  {
   "cell_type": "markdown",
   "metadata": {},
   "source": [
    "### XGBOOST"
   ]
  },
  {
   "cell_type": "code",
   "execution_count": 41,
   "metadata": {},
   "outputs": [],
   "source": [
    "scale_pos_wt = len(y_smote[y_smote == 0]) / sum(y_smote)"
   ]
  },
  {
   "cell_type": "code",
   "execution_count": 42,
   "metadata": {},
   "outputs": [],
   "source": [
    "xgb_classifier = xgb.XGBClassifier(objective = 'binary:logistic' , missing = 0 , scale_pos_weight = scale_pos_wt ,n_jobs = -1,seed = 15)\n"
   ]
  },
  {
   "cell_type": "code",
   "execution_count": 43,
   "metadata": {},
   "outputs": [
    {
     "name": "stdout",
     "output_type": "stream",
     "text": [
      "[0]\tvalidation_0-auc:0.73632\n",
      "[1]\tvalidation_0-auc:0.74300\n"
     ]
    },
    {
     "name": "stderr",
     "output_type": "stream",
     "text": [
      "C:\\Users\\John Zhang\\AppData\\Local\\Packages\\PythonSoftwareFoundation.Python.3.9_qbz5n2kfra8p0\\LocalCache\\local-packages\\Python39\\site-packages\\xgboost\\sklearn.py:1224: UserWarning: The use of label encoder in XGBClassifier is deprecated and will be removed in a future release. To remove this warning, do the following: 1) Pass option use_label_encoder=False when constructing XGBClassifier object; and 2) Encode your labels (y) as integers starting with 0, i.e. 0, 1, 2, ..., [num_class - 1].\n",
      "  warnings.warn(label_encoder_deprecation_msg, UserWarning)\n",
      "C:\\Users\\John Zhang\\AppData\\Local\\Packages\\PythonSoftwareFoundation.Python.3.9_qbz5n2kfra8p0\\LocalCache\\local-packages\\Python39\\site-packages\\xgboost\\data.py:262: FutureWarning: pandas.Int64Index is deprecated and will be removed from pandas in a future version. Use pandas.Index with the appropriate dtype instead.\n",
      "  elif isinstance(data.columns, (pd.Int64Index, pd.RangeIndex)):\n"
     ]
    },
    {
     "name": "stdout",
     "output_type": "stream",
     "text": [
      "[2]\tvalidation_0-auc:0.75099\n",
      "[3]\tvalidation_0-auc:0.75197\n",
      "[4]\tvalidation_0-auc:0.75370\n",
      "[5]\tvalidation_0-auc:0.75652\n",
      "[6]\tvalidation_0-auc:0.75800\n",
      "[7]\tvalidation_0-auc:0.75977\n",
      "[8]\tvalidation_0-auc:0.76125\n",
      "[9]\tvalidation_0-auc:0.76182\n",
      "[10]\tvalidation_0-auc:0.76293\n",
      "[11]\tvalidation_0-auc:0.76319\n",
      "[12]\tvalidation_0-auc:0.76508\n",
      "[13]\tvalidation_0-auc:0.76571\n",
      "[14]\tvalidation_0-auc:0.76535\n",
      "[15]\tvalidation_0-auc:0.76578\n",
      "[16]\tvalidation_0-auc:0.76624\n",
      "[17]\tvalidation_0-auc:0.76794\n",
      "[18]\tvalidation_0-auc:0.77219\n",
      "[19]\tvalidation_0-auc:0.77318\n",
      "[20]\tvalidation_0-auc:0.77331\n",
      "[21]\tvalidation_0-auc:0.77350\n",
      "[22]\tvalidation_0-auc:0.77373\n",
      "[23]\tvalidation_0-auc:0.77425\n",
      "[24]\tvalidation_0-auc:0.77469\n",
      "[25]\tvalidation_0-auc:0.77505\n",
      "[26]\tvalidation_0-auc:0.77556\n",
      "[27]\tvalidation_0-auc:0.77596\n",
      "[28]\tvalidation_0-auc:0.77644\n",
      "[29]\tvalidation_0-auc:0.77624\n",
      "[30]\tvalidation_0-auc:0.77766\n",
      "[31]\tvalidation_0-auc:0.77741\n",
      "[32]\tvalidation_0-auc:0.77721\n",
      "[33]\tvalidation_0-auc:0.77716\n",
      "[34]\tvalidation_0-auc:0.77745\n",
      "[35]\tvalidation_0-auc:0.77855\n",
      "[36]\tvalidation_0-auc:0.77870\n",
      "[37]\tvalidation_0-auc:0.77918\n",
      "[38]\tvalidation_0-auc:0.77970\n",
      "[39]\tvalidation_0-auc:0.77945\n",
      "[40]\tvalidation_0-auc:0.77969\n",
      "[41]\tvalidation_0-auc:0.77975\n",
      "[42]\tvalidation_0-auc:0.77945\n",
      "[43]\tvalidation_0-auc:0.77944\n",
      "[44]\tvalidation_0-auc:0.77967\n",
      "[45]\tvalidation_0-auc:0.77955\n",
      "[46]\tvalidation_0-auc:0.77966\n",
      "[47]\tvalidation_0-auc:0.77985\n",
      "[48]\tvalidation_0-auc:0.77981\n",
      "[49]\tvalidation_0-auc:0.77965\n",
      "[50]\tvalidation_0-auc:0.77958\n",
      "[51]\tvalidation_0-auc:0.77964\n",
      "[52]\tvalidation_0-auc:0.77935\n",
      "[53]\tvalidation_0-auc:0.77919\n",
      "[54]\tvalidation_0-auc:0.77965\n",
      "[55]\tvalidation_0-auc:0.77924\n",
      "[56]\tvalidation_0-auc:0.77921\n"
     ]
    },
    {
     "data": {
      "text/plain": [
       "XGBClassifier(base_score=0.5, booster='gbtree', colsample_bylevel=1,\n",
       "              colsample_bynode=1, colsample_bytree=1, enable_categorical=False,\n",
       "              gamma=0, gpu_id=-1, importance_type=None,\n",
       "              interaction_constraints='', learning_rate=0.300000012,\n",
       "              max_delta_step=0, max_depth=6, min_child_weight=1, missing=0,\n",
       "              monotone_constraints='()', n_estimators=100, n_jobs=-1,\n",
       "              num_parallel_tree=1, predictor='auto', random_state=15,\n",
       "              reg_alpha=0, reg_lambda=1, scale_pos_weight=1.8181960171807887,\n",
       "              seed=15, subsample=1, tree_method='exact', validate_parameters=1,\n",
       "              verbosity=None)"
      ]
     },
     "execution_count": 43,
     "metadata": {},
     "output_type": "execute_result"
    }
   ],
   "source": [
    "xgb_classifier.fit(x_smote,\n",
    "                y_smote,\n",
    "                verbose = True,\n",
    "                early_stopping_rounds= 10,\n",
    "                eval_metric = 'auc',\n",
    "                eval_set = [(x_test,y_test)]\n",
    "                )"
   ]
  },
  {
   "cell_type": "code",
   "execution_count": 44,
   "metadata": {},
   "outputs": [
    {
     "data": {
      "image/png": "[encoded data removed]",
      "text/plain": [
       "<Figure size 432x288 with 1 Axes>"
      ]
     },
     "metadata": {
      "needs_background": "light"
     },
     "output_type": "display_data"
    },
    {
     "name": "stdout",
     "output_type": "stream",
     "text": [
      "Recall=0.640 \n",
      "Precision=0.044\n",
      "F1=0.082\n"
     ]
    }
   ],
   "source": [
    "y_pred = xgb_classifier.predict(x_test)\n",
    "plot_cm(y_test, y_pred)\n"
   ]
  },
  {
   "cell_type": "code",
   "execution_count": 45,
   "metadata": {},
   "outputs": [
    {
     "name": "stdout",
     "output_type": "stream",
     "text": [
      "overall acuracy is  0.7740384859937637 best auc score is  0.779853\n"
     ]
    }
   ],
   "source": [
    "from sklearn.metrics import accuracy_score\n",
    "print('overall acuracy is ' , accuracy_score(y_test, y_pred), 'best auc score is ', xgb_classifier.best_score)\n"
   ]
  },
  {
   "cell_type": "code",
   "execution_count": 46,
   "metadata": {},
   "outputs": [
    {
     "data": {
      "text/plain": [
       "<AxesSubplot:title={'center':'Feature importance'}, xlabel='F score', ylabel='Features'>"
      ]
     },
     "execution_count": 46,
     "metadata": {},
     "output_type": "execute_result"
    },
    {
     "data": {
      "image/png": "[encoded data removed]",
      "text/plain": [
       "<Figure size 432x288 with 1 Axes>"
      ]
     },
     "metadata": {
      "needs_background": "light"
     },
     "output_type": "display_data"
    }
   ],
   "source": [
    "bst = xgb_classifier.get_booster()\n",
    "from xgboost import plot_importance\n",
    "plot_importance(xgb_classifier,max_num_features=10)"
   ]
  },
  {
   "cell_type": "markdown",
   "metadata": {},
   "source": [
    "#### Feature Importance for XGBOOST\n",
    "\n",
    "Shown above is the relative feature importance for our xgboost model"
   ]
  },
  {
   "cell_type": "markdown",
   "metadata": {},
   "source": [
    "### Random Forest"
   ]
  },
  {
   "cell_type": "code",
   "execution_count": 47,
   "metadata": {},
   "outputs": [],
   "source": [
    "from sklearn.ensemble import RandomForestClassifier\n",
    "from sklearn import metrics\n",
    "from imblearn.under_sampling import RandomUnderSampler\n",
    "from imblearn.over_sampling import RandomOverSampler\n",
    "from sklearn.metrics import roc_auc_score as roc_auc_score\n",
    "from sklearn.metrics import confusion_matrix, ConfusionMatrixDisplay "
   ]
  },
  {
   "cell_type": "code",
   "execution_count": 48,
   "metadata": {},
   "outputs": [
    {
     "data": {
      "text/plain": [
       "RandomForestClassifier(n_jobs=-1)"
      ]
     },
     "execution_count": 48,
     "metadata": {},
     "output_type": "execute_result"
    }
   ],
   "source": [
    "rand_f_clf=RandomForestClassifier(n_estimators=100,n_jobs = -1)\n",
    "rand_f_clf.fit(x_smote,y_smote)"
   ]
  },
  {
   "cell_type": "code",
   "execution_count": 49,
   "metadata": {},
   "outputs": [
    {
     "data": {
      "image/png": "[encoded data removed]",
      "text/plain": [
       "<Figure size 432x288 with 1 Axes>"
      ]
     },
     "metadata": {
      "needs_background": "light"
     },
     "output_type": "display_data"
    },
    {
     "name": "stdout",
     "output_type": "stream",
     "text": [
      "Recall=0.424 \n",
      "Precision=0.046\n",
      "F1=0.083\n",
      "overall acuracy is  0.8516513980802783 best auc score is 0.7399492809701007\n"
     ]
    }
   ],
   "source": [
    "y_pred = rand_f_clf.predict(x_test)\n",
    "plot_cm(y_test, y_pred)\n",
    "print('overall acuracy is ' , accuracy_score(y_test, y_pred),'best auc score is', roc_auc_score(y_test, rand_f_clf.predict_proba(x_test)[:,1]) )"
   ]
  },
  {
   "cell_type": "markdown",
   "metadata": {},
   "source": [
    "### Logistic Regression"
   ]
  },
  {
   "cell_type": "code",
   "execution_count": 50,
   "metadata": {},
   "outputs": [],
   "source": [
    "from sklearn.linear_model import LogisticRegression"
   ]
  },
  {
   "cell_type": "code",
   "execution_count": 51,
   "metadata": {},
   "outputs": [],
   "source": [
    "\n",
    "model = LogisticRegression(solver='liblinear')"
   ]
  },
  {
   "cell_type": "code",
   "execution_count": 52,
   "metadata": {},
   "outputs": [],
   "source": [
    "model.fit(x_smote, y_smote)\n",
    "y_pred_test = model.predict(x_test)"
   ]
  },
  {
   "cell_type": "code",
   "execution_count": 53,
   "metadata": {},
   "outputs": [
    {
     "data": {
      "image/png": "[encoded data removed]",
      "text/plain": [
       "<Figure size 432x288 with 1 Axes>"
      ]
     },
     "metadata": {
      "needs_background": "light"
     },
     "output_type": "display_data"
    },
    {
     "name": "stdout",
     "output_type": "stream",
     "text": [
      "Recall=0.243 \n",
      "Precision=0.050\n",
      "F1=0.083\n",
      "overall acuracy is  0.8516513980802783  best auc score is  0.7079638846577455\n"
     ]
    }
   ],
   "source": [
    "\n",
    "plot_cm(y_test, y_pred_test)\n",
    "print('overall acuracy is ' , accuracy_score(y_test, y_pred), ' best auc score is ', roc_auc_score(y_test, model.decision_function(x_test)))\n"
   ]
  },
  {
   "cell_type": "markdown",
   "metadata": {},
   "source": [
    "### Future Work and Model Hyperparameter Tuning First Attempt Lead To A Decrease In Performance"
   ]
  },
  {
   "cell_type": "code",
   "execution_count": 54,
   "metadata": {},
   "outputs": [],
   "source": [
    "params = {\n",
    "            'max_depth': [1, 3, 5],\n",
    "            'learning_rate': [0.001, 0.01, 0.03, 0.05],\n",
    "            'reg_alpha': [0.01, 0.05, 0.07, 0.09, 0.5, 1],\n",
    "            'reg_lambda': [0.01, 0.05, 0.07, 0.09, 0.5, 1],\n",
    "            'scale_pos_weight':[1,2,3,4,5,10,15,20,50]\n",
    "        }"
   ]
  },
  {
   "cell_type": "code",
   "execution_count": 55,
   "metadata": {},
   "outputs": [],
   "source": [
    "\n",
    "grid_search = GridSearchCV(\n",
    "    estimator=xgb.XGBClassifier(objective = 'binary:logistic'),\n",
    "    param_grid=params,\n",
    "    scoring = 'roc_auc',\n",
    "    n_jobs = -1,\n",
    "    cv = 2,\n",
    "    \n",
    "    verbose=False\n",
    ")"
   ]
  },
  {
   "cell_type": "code",
   "execution_count": 56,
   "metadata": {},
   "outputs": [
    {
     "name": "stderr",
     "output_type": "stream",
     "text": [
      "C:\\Users\\John Zhang\\AppData\\Local\\Packages\\PythonSoftwareFoundation.Python.3.9_qbz5n2kfra8p0\\LocalCache\\local-packages\\Python39\\site-packages\\xgboost\\sklearn.py:1224: UserWarning: The use of label encoder in XGBClassifier is deprecated and will be removed in a future release. To remove this warning, do the following: 1) Pass option use_label_encoder=False when constructing XGBClassifier object; and 2) Encode your labels (y) as integers starting with 0, i.e. 0, 1, 2, ..., [num_class - 1].\n",
      "  warnings.warn(label_encoder_deprecation_msg, UserWarning)\n",
      "C:\\Users\\John Zhang\\AppData\\Local\\Packages\\PythonSoftwareFoundation.Python.3.9_qbz5n2kfra8p0\\LocalCache\\local-packages\\Python39\\site-packages\\xgboost\\data.py:262: FutureWarning: pandas.Int64Index is deprecated and will be removed from pandas in a future version. Use pandas.Index with the appropriate dtype instead.\n",
      "  elif isinstance(data.columns, (pd.Int64Index, pd.RangeIndex)):\n"
     ]
    },
    {
     "name": "stdout",
     "output_type": "stream",
     "text": [
      "[15:49:46] WARNING: C:/Users/Administrator/workspace/xgboost-win64_release_1.5.1/src/learner.cc:1115: Starting in XGBoost 1.3.0, the default evaluation metric used with the objective 'binary:logistic' was changed from 'error' to 'logloss'. Explicitly set eval_metric if you'd like to restore the old behavior.\n"
     ]
    },
    {
     "data": {
      "text/plain": [
       "GridSearchCV(cv=2,\n",
       "             estimator=XGBClassifier(base_score=None, booster=None,\n",
       "                                     colsample_bylevel=None,\n",
       "                                     colsample_bynode=None,\n",
       "                                     colsample_bytree=None,\n",
       "                                     enable_categorical=False, gamma=None,\n",
       "                                     gpu_id=None, importance_type=None,\n",
       "                                     interaction_constraints=None,\n",
       "                                     learning_rate=None, max_delta_step=None,\n",
       "                                     max_depth=None, min_child_weight=None,\n",
       "                                     missing=nan, monotone_constraints=None,...\n",
       "                                     random_state=None, reg_alpha=None,\n",
       "                                     reg_lambda=None, scale_pos_weight=None,\n",
       "                                     subsample=None, tree_method=None,\n",
       "                                     validate_parameters=None, verbosity=None),\n",
       "             n_jobs=-1,\n",
       "             param_grid={'learning_rate': [0.001, 0.01, 0.03, 0.05],\n",
       "                         'max_depth': [1, 3, 5],\n",
       "                         'reg_alpha': [0.01, 0.05, 0.07, 0.09, 0.5, 1],\n",
       "                         'reg_lambda': [0.01, 0.05, 0.07, 0.09, 0.5, 1],\n",
       "                         'scale_pos_weight': [1, 2, 3, 4, 5, 10, 15, 20, 50]},\n",
       "             scoring='roc_auc', verbose=False)"
      ]
     },
     "execution_count": 56,
     "metadata": {},
     "output_type": "execute_result"
    }
   ],
   "source": [
    "grid_search.fit(x_smote, y_smote)"
   ]
  },
  {
   "cell_type": "code",
   "execution_count": 58,
   "metadata": {},
   "outputs": [
    {
     "name": "stderr",
     "output_type": "stream",
     "text": [
      "C:\\Users\\John Zhang\\AppData\\Local\\Packages\\PythonSoftwareFoundation.Python.3.9_qbz5n2kfra8p0\\LocalCache\\local-packages\\Python39\\site-packages\\xgboost\\data.py:262: FutureWarning: pandas.Int64Index is deprecated and will be removed from pandas in a future version. Use pandas.Index with the appropriate dtype instead.\n",
      "  elif isinstance(data.columns, (pd.Int64Index, pd.RangeIndex)):\n"
     ]
    },
    {
     "data": {
      "image/png": "[encoded data removed]",
      "text/plain": [
       "<Figure size 432x288 with 1 Axes>"
      ]
     },
     "metadata": {
      "needs_background": "light"
     },
     "output_type": "display_data"
    },
    {
     "name": "stdout",
     "output_type": "stream",
     "text": [
      "Recall=0.429 \n",
      "Precision=0.055\n",
      "F1=0.098\n",
      "overall acuracy is  0.8753350865502489 best auc score is  0.779853\n"
     ]
    }
   ],
   "source": [
    "y_pred = grid_search.predict(x_test)\n",
    "plot_cm(y_test, y_pred)\n",
    "print('overall acuracy is ' , accuracy_score(y_test, y_pred), 'best auc score is ', xgb_classifier.best_score)"
   ]
  },
  {
   "cell_type": "code",
   "execution_count": 70,
   "metadata": {},
   "outputs": [
    {
     "data": {
      "text/plain": [
       "{'learning_rate': 0.05,\n",
       " 'max_depth': 5,\n",
       " 'reg_alpha': 1,\n",
       " 'reg_lambda': 0.01,\n",
       " 'scale_pos_weight': 1}"
      ]
     },
     "execution_count": 70,
     "metadata": {},
     "output_type": "execute_result"
    }
   ],
   "source": [
    "grid_search.best_params_"
   ]
  },
  {
   "cell_type": "markdown",
   "metadata": {},
   "source": [
    "#### Second Attempt Did Not Work As My Computer Terminated"
   ]
  },
  {
   "cell_type": "code",
   "execution_count": 73,
   "metadata": {},
   "outputs": [],
   "source": [
    "params = {\n",
    "            'max_depth': [1, 3, 5,10,11],\n",
    "            'learning_rate': [0.001, 0.05,0.06,0.08,0.09,0.1],\n",
    "            'reg_alpha': [0.01, 0.05, 0.07, 0.09, 0.5, 1],\n",
    "            'reg_lambda': [0.01, 0.05, 0.07, 0.09, 0.5, 1],\n",
    "            'scale_pos_weight':[1,2,3,4,5,10,15,20,50]\n",
    "        }"
   ]
  },
  {
   "cell_type": "code",
   "execution_count": 74,
   "metadata": {},
   "outputs": [],
   "source": [
    "\n",
    "grid_search2 = GridSearchCV(\n",
    "    estimator=xgb.XGBClassifier(objective = 'binary:logistic'),\n",
    "    param_grid=params,\n",
    "    scoring = 'roc_auc',\n",
    "    n_jobs = -1,\n",
    "    cv = 2,\n",
    "    verbose=False\n",
    ")"
   ]
  },
  {
   "cell_type": "code",
   "execution_count": null,
   "metadata": {},
   "outputs": [],
   "source": [
    "grid_search2.fit(x_smote, y_smote)"
   ]
  }
 ],
 "metadata": {
  "interpreter": {
   "hash": "1c681702b6b6850d91667e040fac5f111cea78008ff93b76fed5a18b70ae5fe9"
  },
  "kernelspec": {
   "display_name": "Python 3.9.7 64-bit",
   "language": "python",
   "name": "python3"
  },
  "language_info": {
   "codemirror_mode": {
    "name": "ipython",
    "version": 3
   },
   "file_extension": ".py",
   "mimetype": "text/x-python",
   "name": "python",
   "nbconvert_exporter": "python",
   "pygments_lexer": "ipython3",
   "version": "3.9.12"
  },
  "orig_nbformat": 4
 },
 "nbformat": 4,
 "nbformat_minor": 2
}
